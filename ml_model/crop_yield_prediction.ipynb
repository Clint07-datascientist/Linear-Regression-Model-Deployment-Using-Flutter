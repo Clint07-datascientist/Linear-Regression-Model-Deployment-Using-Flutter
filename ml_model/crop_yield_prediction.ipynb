{
 "cells": [
  {
   "cell_type": "markdown",
   "metadata": {},
   "source": []
  },
  {
   "cell_type": "code",
   "execution_count": 8,
   "metadata": {},
   "outputs": [],
   "source": [
    "# A library for programmatic plot generation.\n",
    "import matplotlib.pyplot as plt\n",
    "# A library for data manipulation and analysis.\n",
    "import pandas as pd\n",
    "# LinearRegression from sklearn.\n",
    "from sklearn.linear_model import LinearRegression\n",
    "# NumPy is a library for the Python programming language, adding support for large, multi-dimensional arrays and matrices, along with a large collection of high-level mathematical functions to operate on these arrays\n",
    "import numpy as np\n",
    "# Allows us to split our data into training and testing data\n",
    "from sklearn.model_selection import train_test_split\n",
    "\n",
    "from sklearn.metrics import mean_squared_error\n",
    "\n",
    "from sklearn.ensemble import RandomForestRegressor\n",
    "\n",
    "from sklearn.tree import DecisionTreeRegressor\n",
    "\n",
    "from sklearn.preprocessing import OneHotEncoder, StandardScaler\n",
    "\n",
    "from sklearn.compose import ColumnTransformer\n",
    "\n",
    "from sklearn.pipeline import Pipeline\n",
    "\n",
    "import joblib"
   ]
  },
  {
   "cell_type": "code",
   "execution_count": 9,
   "metadata": {},
   "outputs": [],
   "source": [
    "path = \"hvstat_africa_data_v1.0.csv\""
   ]
  },
  {
   "cell_type": "code",
   "execution_count": 10,
   "metadata": {},
   "outputs": [],
   "source": [
    "df = pd.read_csv(path)"
   ]
  },
  {
   "cell_type": "code",
   "execution_count": 11,
   "metadata": {},
   "outputs": [
    {
     "data": {
      "text/html": [
       "<div>\n",
       "<style scoped>\n",
       "    .dataframe tbody tr th:only-of-type {\n",
       "        vertical-align: middle;\n",
       "    }\n",
       "\n",
       "    .dataframe tbody tr th {\n",
       "        vertical-align: top;\n",
       "    }\n",
       "\n",
       "    .dataframe thead th {\n",
       "        text-align: right;\n",
       "    }\n",
       "</style>\n",
       "<table border=\"1\" class=\"dataframe\">\n",
       "  <thead>\n",
       "    <tr style=\"text-align: right;\">\n",
       "      <th></th>\n",
       "      <th>fnid</th>\n",
       "      <th>country</th>\n",
       "      <th>country_code</th>\n",
       "      <th>admin_1</th>\n",
       "      <th>admin_2</th>\n",
       "      <th>product</th>\n",
       "      <th>season_name</th>\n",
       "      <th>planting_year</th>\n",
       "      <th>planting_month</th>\n",
       "      <th>harvest_year</th>\n",
       "      <th>harvest_month</th>\n",
       "      <th>crop_production_system</th>\n",
       "      <th>QC_flag</th>\n",
       "      <th>area</th>\n",
       "      <th>production</th>\n",
       "      <th>yield</th>\n",
       "    </tr>\n",
       "  </thead>\n",
       "  <tbody>\n",
       "    <tr>\n",
       "      <th>0</th>\n",
       "      <td>AO2008A101</td>\n",
       "      <td>Angola</td>\n",
       "      <td>AO</td>\n",
       "      <td>Bengo</td>\n",
       "      <td>none</td>\n",
       "      <td>Banana</td>\n",
       "      <td>Main</td>\n",
       "      <td>2007</td>\n",
       "      <td>10</td>\n",
       "      <td>2008</td>\n",
       "      <td>4</td>\n",
       "      <td>All (PS)</td>\n",
       "      <td>0</td>\n",
       "      <td>1364.0</td>\n",
       "      <td>19588.0</td>\n",
       "      <td>14.360704</td>\n",
       "    </tr>\n",
       "    <tr>\n",
       "      <th>1</th>\n",
       "      <td>AO2008A101</td>\n",
       "      <td>Angola</td>\n",
       "      <td>AO</td>\n",
       "      <td>Bengo</td>\n",
       "      <td>none</td>\n",
       "      <td>Banana</td>\n",
       "      <td>Main</td>\n",
       "      <td>2008</td>\n",
       "      <td>10</td>\n",
       "      <td>2009</td>\n",
       "      <td>4</td>\n",
       "      <td>All (PS)</td>\n",
       "      <td>0</td>\n",
       "      <td>1364.0</td>\n",
       "      <td>20461.0</td>\n",
       "      <td>15.000733</td>\n",
       "    </tr>\n",
       "    <tr>\n",
       "      <th>2</th>\n",
       "      <td>AO2008A101</td>\n",
       "      <td>Angola</td>\n",
       "      <td>AO</td>\n",
       "      <td>Bengo</td>\n",
       "      <td>none</td>\n",
       "      <td>Banana</td>\n",
       "      <td>Main</td>\n",
       "      <td>2014</td>\n",
       "      <td>10</td>\n",
       "      <td>2015</td>\n",
       "      <td>4</td>\n",
       "      <td>All (PS)</td>\n",
       "      <td>0</td>\n",
       "      <td>8706.0</td>\n",
       "      <td>222044.0</td>\n",
       "      <td>25.504709</td>\n",
       "    </tr>\n",
       "    <tr>\n",
       "      <th>3</th>\n",
       "      <td>AO2008A101</td>\n",
       "      <td>Angola</td>\n",
       "      <td>AO</td>\n",
       "      <td>Bengo</td>\n",
       "      <td>none</td>\n",
       "      <td>Banana</td>\n",
       "      <td>Main</td>\n",
       "      <td>2015</td>\n",
       "      <td>10</td>\n",
       "      <td>2016</td>\n",
       "      <td>4</td>\n",
       "      <td>All (PS)</td>\n",
       "      <td>0</td>\n",
       "      <td>8706.0</td>\n",
       "      <td>222044.0</td>\n",
       "      <td>25.504709</td>\n",
       "    </tr>\n",
       "    <tr>\n",
       "      <th>4</th>\n",
       "      <td>AO2008A101</td>\n",
       "      <td>Angola</td>\n",
       "      <td>AO</td>\n",
       "      <td>Bengo</td>\n",
       "      <td>none</td>\n",
       "      <td>Banana</td>\n",
       "      <td>Main</td>\n",
       "      <td>2016</td>\n",
       "      <td>10</td>\n",
       "      <td>2017</td>\n",
       "      <td>4</td>\n",
       "      <td>All (PS)</td>\n",
       "      <td>0</td>\n",
       "      <td>9549.7</td>\n",
       "      <td>233967.0</td>\n",
       "      <td>24.499932</td>\n",
       "    </tr>\n",
       "  </tbody>\n",
       "</table>\n",
       "</div>"
      ],
      "text/plain": [
       "         fnid country country_code admin_1 admin_2 product season_name  \\\n",
       "0  AO2008A101  Angola           AO   Bengo    none  Banana        Main   \n",
       "1  AO2008A101  Angola           AO   Bengo    none  Banana        Main   \n",
       "2  AO2008A101  Angola           AO   Bengo    none  Banana        Main   \n",
       "3  AO2008A101  Angola           AO   Bengo    none  Banana        Main   \n",
       "4  AO2008A101  Angola           AO   Bengo    none  Banana        Main   \n",
       "\n",
       "   planting_year  planting_month  harvest_year  harvest_month  \\\n",
       "0           2007              10          2008              4   \n",
       "1           2008              10          2009              4   \n",
       "2           2014              10          2015              4   \n",
       "3           2015              10          2016              4   \n",
       "4           2016              10          2017              4   \n",
       "\n",
       "  crop_production_system  QC_flag    area  production      yield  \n",
       "0               All (PS)        0  1364.0     19588.0  14.360704  \n",
       "1               All (PS)        0  1364.0     20461.0  15.000733  \n",
       "2               All (PS)        0  8706.0    222044.0  25.504709  \n",
       "3               All (PS)        0  8706.0    222044.0  25.504709  \n",
       "4               All (PS)        0  9549.7    233967.0  24.499932  "
      ]
     },
     "execution_count": 11,
     "metadata": {},
     "output_type": "execute_result"
    }
   ],
   "source": [
    "df.head()"
   ]
  },
  {
   "cell_type": "code",
   "execution_count": 12,
   "metadata": {},
   "outputs": [
    {
     "data": {
      "text/html": [
       "<div>\n",
       "<style scoped>\n",
       "    .dataframe tbody tr th:only-of-type {\n",
       "        vertical-align: middle;\n",
       "    }\n",
       "\n",
       "    .dataframe tbody tr th {\n",
       "        vertical-align: top;\n",
       "    }\n",
       "\n",
       "    .dataframe thead th {\n",
       "        text-align: right;\n",
       "    }\n",
       "</style>\n",
       "<table border=\"1\" class=\"dataframe\">\n",
       "  <thead>\n",
       "    <tr style=\"text-align: right;\">\n",
       "      <th></th>\n",
       "      <th>fnid</th>\n",
       "      <th>country</th>\n",
       "      <th>country_code</th>\n",
       "      <th>admin_1</th>\n",
       "      <th>admin_2</th>\n",
       "      <th>product</th>\n",
       "      <th>season_name</th>\n",
       "      <th>planting_year</th>\n",
       "      <th>planting_month</th>\n",
       "      <th>harvest_year</th>\n",
       "      <th>harvest_month</th>\n",
       "      <th>crop_production_system</th>\n",
       "      <th>QC_flag</th>\n",
       "      <th>area</th>\n",
       "      <th>production</th>\n",
       "      <th>yield</th>\n",
       "    </tr>\n",
       "  </thead>\n",
       "  <tbody>\n",
       "    <tr>\n",
       "      <th>193478</th>\n",
       "      <td>ZW2018A118</td>\n",
       "      <td>Zimbabwe</td>\n",
       "      <td>ZW</td>\n",
       "      <td>Masvingo</td>\n",
       "      <td>none</td>\n",
       "      <td>Sweet Potatoes</td>\n",
       "      <td>Main</td>\n",
       "      <td>2018</td>\n",
       "      <td>11</td>\n",
       "      <td>2019</td>\n",
       "      <td>6</td>\n",
       "      <td>All (PS)</td>\n",
       "      <td>0</td>\n",
       "      <td>5100.0</td>\n",
       "      <td>23850.0</td>\n",
       "      <td>4.676471</td>\n",
       "    </tr>\n",
       "    <tr>\n",
       "      <th>193479</th>\n",
       "      <td>ZW2018A118</td>\n",
       "      <td>Zimbabwe</td>\n",
       "      <td>ZW</td>\n",
       "      <td>Masvingo</td>\n",
       "      <td>none</td>\n",
       "      <td>Sweet Potatoes</td>\n",
       "      <td>Main</td>\n",
       "      <td>2019</td>\n",
       "      <td>11</td>\n",
       "      <td>2020</td>\n",
       "      <td>6</td>\n",
       "      <td>All (PS)</td>\n",
       "      <td>0</td>\n",
       "      <td>5392.0</td>\n",
       "      <td>16572.0</td>\n",
       "      <td>3.073442</td>\n",
       "    </tr>\n",
       "    <tr>\n",
       "      <th>193480</th>\n",
       "      <td>ZW2018A118</td>\n",
       "      <td>Zimbabwe</td>\n",
       "      <td>ZW</td>\n",
       "      <td>Masvingo</td>\n",
       "      <td>none</td>\n",
       "      <td>Sweet Potatoes</td>\n",
       "      <td>Main</td>\n",
       "      <td>2020</td>\n",
       "      <td>11</td>\n",
       "      <td>2021</td>\n",
       "      <td>6</td>\n",
       "      <td>All (PS)</td>\n",
       "      <td>0</td>\n",
       "      <td>13319.0</td>\n",
       "      <td>111269.0</td>\n",
       "      <td>8.354156</td>\n",
       "    </tr>\n",
       "    <tr>\n",
       "      <th>193481</th>\n",
       "      <td>ZW2018A118</td>\n",
       "      <td>Zimbabwe</td>\n",
       "      <td>ZW</td>\n",
       "      <td>Masvingo</td>\n",
       "      <td>none</td>\n",
       "      <td>Sweet Potatoes</td>\n",
       "      <td>Main</td>\n",
       "      <td>2021</td>\n",
       "      <td>11</td>\n",
       "      <td>2022</td>\n",
       "      <td>6</td>\n",
       "      <td>All (PS)</td>\n",
       "      <td>0</td>\n",
       "      <td>7060.0</td>\n",
       "      <td>39409.0</td>\n",
       "      <td>5.582011</td>\n",
       "    </tr>\n",
       "    <tr>\n",
       "      <th>193482</th>\n",
       "      <td>ZW2018A118</td>\n",
       "      <td>Zimbabwe</td>\n",
       "      <td>ZW</td>\n",
       "      <td>Masvingo</td>\n",
       "      <td>none</td>\n",
       "      <td>Sweet Potatoes</td>\n",
       "      <td>Main</td>\n",
       "      <td>2022</td>\n",
       "      <td>11</td>\n",
       "      <td>2023</td>\n",
       "      <td>6</td>\n",
       "      <td>All (PS)</td>\n",
       "      <td>0</td>\n",
       "      <td>7060.0</td>\n",
       "      <td>39409.0</td>\n",
       "      <td>5.582011</td>\n",
       "    </tr>\n",
       "  </tbody>\n",
       "</table>\n",
       "</div>"
      ],
      "text/plain": [
       "              fnid   country country_code   admin_1 admin_2         product  \\\n",
       "193478  ZW2018A118  Zimbabwe           ZW  Masvingo    none  Sweet Potatoes   \n",
       "193479  ZW2018A118  Zimbabwe           ZW  Masvingo    none  Sweet Potatoes   \n",
       "193480  ZW2018A118  Zimbabwe           ZW  Masvingo    none  Sweet Potatoes   \n",
       "193481  ZW2018A118  Zimbabwe           ZW  Masvingo    none  Sweet Potatoes   \n",
       "193482  ZW2018A118  Zimbabwe           ZW  Masvingo    none  Sweet Potatoes   \n",
       "\n",
       "       season_name  planting_year  planting_month  harvest_year  \\\n",
       "193478        Main           2018              11          2019   \n",
       "193479        Main           2019              11          2020   \n",
       "193480        Main           2020              11          2021   \n",
       "193481        Main           2021              11          2022   \n",
       "193482        Main           2022              11          2023   \n",
       "\n",
       "        harvest_month crop_production_system  QC_flag     area  production  \\\n",
       "193478              6               All (PS)        0   5100.0     23850.0   \n",
       "193479              6               All (PS)        0   5392.0     16572.0   \n",
       "193480              6               All (PS)        0  13319.0    111269.0   \n",
       "193481              6               All (PS)        0   7060.0     39409.0   \n",
       "193482              6               All (PS)        0   7060.0     39409.0   \n",
       "\n",
       "           yield  \n",
       "193478  4.676471  \n",
       "193479  3.073442  \n",
       "193480  8.354156  \n",
       "193481  5.582011  \n",
       "193482  5.582011  "
      ]
     },
     "execution_count": 12,
     "metadata": {},
     "output_type": "execute_result"
    }
   ],
   "source": [
    "df.tail()"
   ]
  },
  {
   "cell_type": "code",
   "execution_count": 13,
   "metadata": {},
   "outputs": [
    {
     "name": "stdout",
     "output_type": "stream",
     "text": [
      "<class 'pandas.core.frame.DataFrame'>\n",
      "RangeIndex: 193483 entries, 0 to 193482\n",
      "Data columns (total 16 columns):\n",
      " #   Column                  Non-Null Count   Dtype  \n",
      "---  ------                  --------------   -----  \n",
      " 0   fnid                    193483 non-null  object \n",
      " 1   country                 193483 non-null  object \n",
      " 2   country_code            193483 non-null  object \n",
      " 3   admin_1                 193483 non-null  object \n",
      " 4   admin_2                 193483 non-null  object \n",
      " 5   product                 193483 non-null  object \n",
      " 6   season_name             193483 non-null  object \n",
      " 7   planting_year           193483 non-null  int64  \n",
      " 8   planting_month          193483 non-null  int64  \n",
      " 9   harvest_year            193483 non-null  int64  \n",
      " 10  harvest_month           193483 non-null  int64  \n",
      " 11  crop_production_system  193483 non-null  object \n",
      " 12  QC_flag                 193483 non-null  int64  \n",
      " 13  area                    181060 non-null  float64\n",
      " 14  production              189095 non-null  float64\n",
      " 15  yield                   176450 non-null  float64\n",
      "dtypes: float64(3), int64(5), object(8)\n",
      "memory usage: 23.6+ MB\n"
     ]
    }
   ],
   "source": [
    "df.info()"
   ]
  },
  {
   "cell_type": "code",
   "execution_count": 14,
   "metadata": {},
   "outputs": [
    {
     "data": {
      "text/plain": [
       "fnid                          0\n",
       "country                       0\n",
       "country_code                  0\n",
       "admin_1                       0\n",
       "admin_2                       0\n",
       "product                       0\n",
       "season_name                   0\n",
       "planting_year                 0\n",
       "planting_month                0\n",
       "harvest_year                  0\n",
       "harvest_month                 0\n",
       "crop_production_system        0\n",
       "QC_flag                       0\n",
       "area                      12423\n",
       "production                 4388\n",
       "yield                     17033\n",
       "dtype: int64"
      ]
     },
     "execution_count": 14,
     "metadata": {},
     "output_type": "execute_result"
    }
   ],
   "source": [
    "df.isnull().sum()"
   ]
  },
  {
   "cell_type": "code",
   "execution_count": 15,
   "metadata": {},
   "outputs": [
    {
     "name": "stdout",
     "output_type": "stream",
     "text": [
      "fnid                      0.000000\n",
      "country                   0.000000\n",
      "country_code              0.000000\n",
      "admin_1                   0.000000\n",
      "admin_2                   0.000000\n",
      "product                   0.000000\n",
      "season_name               0.000000\n",
      "planting_year             0.000000\n",
      "planting_month            0.000000\n",
      "harvest_year              0.000000\n",
      "harvest_month             0.000000\n",
      "crop_production_system    0.000000\n",
      "QC_flag                   0.000000\n",
      "area                      6.420719\n",
      "production                2.267900\n",
      "yield                     8.803357\n",
      "dtype: float64\n"
     ]
    }
   ],
   "source": [
    "missing_proportion = df.isnull().sum() / len(df) * 100\n",
    "print(missing_proportion)\n"
   ]
  },
  {
   "cell_type": "code",
   "execution_count": 16,
   "metadata": {},
   "outputs": [
    {
     "name": "stdout",
     "output_type": "stream",
     "text": [
      "['Bengo' 'Benguela' 'Bie' 'Cabinda' 'Cunene' 'Huambo' 'Huila'\n",
      " 'Kuando Kubango' 'Kuanza Norte' 'Kuanza Sul' 'Luanda' 'Lunda Norte'\n",
      " 'Lunda Sul' 'Malanje' 'Moxico' 'Namibe' 'Uige' 'Zaire' 'Centre'\n",
      " 'Boucle du Mouhoun' 'Cascades' 'Centre-Est' 'Centre-Nord' 'Centre-Ouest'\n",
      " 'Centre-Sud' 'Est' 'Hauts-Bassins' 'Nord' 'Plateau-Central' 'Sahel'\n",
      " 'Sud-Ouest' 'Bubanza' 'Bujumbura Rural' 'Bururi' 'Cankuzo' 'Cibitoke'\n",
      " 'Gitega' 'Karuzi' 'Kayanza' 'Kirundo' 'Makamba' 'Muramvya' 'Muyinga'\n",
      " 'Mwaro' 'Ngozi' 'Rutana' 'Ruyigi' 'Borgou' 'Ouémé' 'Zou' 'Mono' 'Atacora'\n",
      " 'Atlantique' 'Alibori' 'Plateau' 'Collines' 'Couffo' 'Donga' 'Littoral'\n",
      " 'Kongo-Central' 'Maniema' 'North Kivu' 'South Kivu' 'Bas-Uele' 'Equateur'\n",
      " 'Haut-Katanga' 'Haut-Lomami' 'Haut-Uele' 'Kasai' 'Kasai-Central' 'Kwango'\n",
      " 'Kwilu' 'Lomami' 'Lualaba' 'Mai-Ndombe' 'North Ubangi' 'Sankuru'\n",
      " 'South Ubangi' 'Tanganyika' 'Tshopo' 'Ombella-Mpoko' 'Lobaye'\n",
      " 'Mambere-Kadei' 'Nana-Mambere' 'Sangha-Mbaere' 'Ouham-Pende' 'Ouham'\n",
      " 'Kemo' 'Nana-Grebizi' 'Ouaka' 'Bamingui-Bangoran' 'Haute-Kotto' 'Vakaga'\n",
      " 'Basse-Kotto' 'Mbomou' 'Haut-Mbomou' 'Adamawa' 'East' 'Far North' 'North'\n",
      " 'Northwest' 'South' 'Southwest' 'West' 'Tigray' 'Afar' 'Amhara' 'Oromia'\n",
      " 'Somali' 'Benishangul Gumuz' 'SNNPR' 'Gambela' 'Harari' 'Dire Dawa'\n",
      " 'Eastern' 'Ashanti' 'Ahafo' 'Central' 'Northern' 'Volta' 'Western'\n",
      " 'Greater Accra' 'Upper East' 'Upper West' 'Bono' 'Bono East' 'North East'\n",
      " 'Oti' 'Savannah' 'Western North' 'Boke' 'Faranah' 'Kankan' 'Kindia'\n",
      " 'Labe' 'Mamou' \"N'Zerekore\" 'Mombasa' 'Kwale' 'Kilifi' 'Tana River'\n",
      " 'Lamu' 'Taita Taveta' 'Garissa' 'Wajir' 'Mandera' 'Marsabit' 'Isiolo'\n",
      " 'Meru' 'Tharaka Nithi' 'Embu' 'Kitui' 'Machakos' 'Makueni' 'Nyandarua'\n",
      " 'Nyeri' 'Kirinyaga' \"Murang'a\" 'Kiambu' 'Turkana' 'West Pokot' 'Samburu'\n",
      " 'Trans Nzoia' 'Uasin Gishu' 'Elgeyo-Marakwet' 'Nandi' 'Baringo'\n",
      " 'Laikipia' 'Nakuru' 'Narok' 'Kajiado' 'Kericho' 'Bomet' 'Kakamega'\n",
      " 'Vihiga' 'Bungoma' 'Busia' 'Siaya' 'Kisumu' 'Homa Bay' 'Migori' 'Kisii'\n",
      " 'Nyamira' 'Nairobi' 'Bomi' 'Bong' 'Grand Bassa' 'Grand Cape Mount'\n",
      " 'Grand Gedeh' 'Grand Kru' 'Lofa' 'Margibi' 'Maryland' 'Montserrado'\n",
      " 'Nimba' 'Rivercess' 'Sinoe' 'River Gee' 'Gbarpolu' 'Berea' 'Butha-Buthe'\n",
      " 'Leribe' 'Mafeteng' 'Maseru' \"Mohale's Hoek\" 'Mokhotlong' \"Qacha's Nek\"\n",
      " 'Quthing' 'Thaba-Tseka' 'Antananarivo' 'Antsiranana' 'Fianarantsoa'\n",
      " 'Mahajanga' 'Toamasina' 'Toliara' 'Kayes' 'Koulikoro' 'Sikasso' 'Segou'\n",
      " 'Mopti' 'Tombouctou' 'Gao' 'Kidal' 'Bamako' 'Hodh ech Chargui'\n",
      " 'Hodh el Gharbi' 'Assaba' 'Gorgol' 'Brakna' 'Trarza' 'Adrar' 'Tagant'\n",
      " 'Guidimaka' 'Inchiri' 'Southern' 'Cabo Delgado' 'Gaza' 'Inhambane'\n",
      " 'Manica' 'Maputo' 'Nampula' 'Niassa' 'Sofala' 'Tete' 'Zambezia' 'Agadez'\n",
      " 'Diffa' 'Dosso' 'Maradi' 'Tahoua' 'Tillaberi' 'Zinder' 'Abia' 'Akwa Ibom'\n",
      " 'Anambra' 'Bauchi' 'Bayelsa' 'Benue' 'Borno' 'Cross River' 'Delta'\n",
      " 'Ebonyi' 'Edo' 'Ekiti' 'Enugu' 'Federal Capital Territory' 'Gombe' 'Imo'\n",
      " 'Jigawa' 'Kaduna' 'Kano' 'Katsina' 'Kebbi' 'Kogi' 'Kwara' 'Lagos'\n",
      " 'Nasarawa' 'Niger' 'Ogun' 'Ondo' 'Osun' 'Oyo' 'Rivers' 'Sokoto' 'Taraba'\n",
      " 'Yobe' 'Zamfara' 'Kigali' 'Khartoum' 'North Darfur' 'South Darfur'\n",
      " 'West Darfur' 'East Darfur' 'Central Darfur' 'South Kordofan' 'Blue Nile'\n",
      " 'White Nile' 'Red Sea' 'Kassala' 'Gedaref' 'North Kordofan' 'Sinnar'\n",
      " 'Gezira' 'River Nile' 'West Kordofan' 'Western Area' 'Dakar' 'Thies'\n",
      " 'Diourbel' 'Ziguinchor' 'Saint-Louis' 'Matam' 'Louga' 'Kolda' 'Sedhiou'\n",
      " 'Tambacounda' 'Kedougou' 'Kaolack' 'Kaffrine' 'Fatick' 'Woqooyi Galbeed'\n",
      " 'Togdheer' 'Mudug' 'Galgaduud' 'Hiiraan' 'Middle Shabelle'\n",
      " 'Lower Shabelle' 'Bay' 'Bakool' 'Gedo' 'Middle Juba' 'Lower Juba'\n",
      " 'Upper Nile' 'Jonglei' 'Unity' 'Western Bahr el Ghazal'\n",
      " 'Northern Bahr el Ghazal' 'Warrap' 'Lakes' 'Western Equatoria'\n",
      " 'Central Equatoria' 'Eastern Equatoria' 'Barh el Gazel' 'Batha'\n",
      " 'Chari-Baguirmi' 'Guera' 'Hadjer-Lamis' 'Kanem' 'Lac' 'Logone Occidental'\n",
      " 'Logone Oriental' 'Mandoul' 'Mayo-Kebbi Est' 'Mayo-Kebbi Ouest'\n",
      " 'Moyen-Chari' 'Ouaddai' 'Salamat' 'Sila' 'Tandjile' 'Wadi Fira' 'Kara'\n",
      " 'Plateaux' 'Centrale' 'Savanes' 'Maritime' 'Arusha' 'Dar es Salaam'\n",
      " 'Dodoma' 'Iringa' 'Kagera' 'Pemba North' 'Zanzibar Urban/West' 'Kigoma'\n",
      " 'Kilimanjaro' 'Pemba South' 'Zanzibar Central/South' 'Lindi' 'Mara'\n",
      " 'Mbeya' 'Morogoro' 'Mtwara' 'Mwanza' 'Pwani' 'Rukwa' 'Ruvuma' 'Shinyanga'\n",
      " 'Singida' 'Tabora' 'Tanga' 'Manyara' 'Geita' 'Katavi' 'Njombe' 'Simiyu'\n",
      " 'Zanzibar North' 'Western Cape' 'Eastern Cape' 'Northern Cape'\n",
      " 'Free State' 'Kwazulu-Natal' 'North West' 'Gauteng' 'Mpumalanga'\n",
      " 'Limpopo' 'Copperbelt' 'Luapula' 'Lusaka' 'Muchinga' 'North-Western'\n",
      " 'Manicaland' 'Mashonaland Central' 'Mashonaland East' 'Mashonaland West'\n",
      " 'Matabeleland North' 'Matabeleland South' 'Midlands' 'Masvingo']\n"
     ]
    }
   ],
   "source": [
    "# Get unique values in the admin_1 column\n",
    "unique_admin_1_values = df['admin_1'].unique()\n",
    "\n",
    "# Print the unique values\n",
    "print(unique_admin_1_values)\n"
   ]
  },
  {
   "cell_type": "code",
   "execution_count": 17,
   "metadata": {},
   "outputs": [
    {
     "name": "stdout",
     "output_type": "stream",
     "text": [
      "['none' 'Kadiogo' 'Bale' 'Banwa' 'Kossi' 'Mouhoun' 'Nayala' 'Sourou'\n",
      " 'Comoe' 'Leraba' 'Boulgou' 'Koulpelogo' 'Kouritenga' 'Bam' 'Namentenga'\n",
      " 'Sanmatenga' 'Boulkiemde' 'Sanguie' 'Sissili' 'Ziro' 'Bazega' 'Nahouri'\n",
      " 'Zoundweogo' 'Gnagna' 'Gourma' 'Komandjari' 'Kompienga' 'Tapoa' 'Houet'\n",
      " 'Kenedougou' 'Tuy' 'Loroum' 'Passore' 'Yatenga' 'Zondoma' 'Ganzourgou'\n",
      " 'Kourweogo' 'Oubritenga' 'Oudalan' 'Seno' 'Soum' 'Yagha' 'Bougouriba'\n",
      " 'Ioba' 'Noumbiel' 'Poni' 'Bembéréké' 'Kalalé' \"N'Dali\" 'Nikki' 'Parakou'\n",
      " 'Pèrèrè' 'Sinendé' 'Tchaourou' 'Adjarra' 'Adjohoun' 'Aguégués'\n",
      " 'Akpro-Missérété' 'Avrankou' 'Bonou' 'Dangbo' 'Porto-Novo' 'Sèmè-Kpodji'\n",
      " 'Abomey' 'Agbangnizoun' 'Bohicon' 'Covè' 'Djidja' 'Ouinhi' 'Zagnanado'\n",
      " 'Za-Kpota' 'Zogbodomey' 'Athiémé' 'Bopa' 'Comè' 'Grand-Popo' 'Houéyogbé'\n",
      " 'Lokossa' 'Boukoumbé' 'Cobly' 'Kérou' 'Kouandé' 'Matéri' 'Natitingou'\n",
      " 'Péhunco' 'Tanguiéta' 'Toucountouna' 'Abomey-Calavi' 'Allada' 'Kpomassè'\n",
      " 'Ouidah' 'Sô-Ava' 'Toffo' 'Tori-Bossito' 'Zè' 'Banikoara' 'Gogonou'\n",
      " 'Kandi' 'Karimama' 'Malanville' 'Segbana' 'Adja-Ouèrè' 'Ifangni' 'Kétou'\n",
      " 'Pobè' 'Sakété' 'Bantè' 'Dassa-Zoumè' 'Glazoué' 'Ouèssè' 'Savalou' 'Savè'\n",
      " 'Aplahoué' 'Djakotomey' 'Dogbo' 'Klouékanmè' 'Lalo' 'Toviklin' 'Bassila'\n",
      " 'Copargo' 'Ouaké' 'Djougou' 'Cotonou' 'Djerem' 'Faro et Deo' 'Mayo Banyo'\n",
      " 'Mbere' 'Vina' 'Haute Sanaga' 'Lekie' 'Mbam et Inoubou' 'Mbam et Kim'\n",
      " 'Mefou et Afamba' 'Mefou et Akono' 'Mfoundi' 'Nyong et Kelle'\n",
      " 'Nyong et Mfoumou' \"Nyong et So'o\" 'Boumba et Ngoko' 'Haut Nyong' 'Kadey'\n",
      " 'Lom et Djerem' 'Diamare' 'Logone et Chari' 'Mayo Danay' 'Mayo Kani'\n",
      " 'Mayo Sava' 'Mayo Tsanaga' 'Moungo' 'Nkam' 'Sanaga Maritime' 'Wouri'\n",
      " 'Benoue' 'Faro' 'Mayo Louti' 'Mayo Rey' 'Boyo' 'Bui' 'Donga Mantung'\n",
      " 'Menchum' 'Mezam' 'Momo' 'Ngo Ketunjia' 'Dja et Lobo' 'Mvila' 'Ocean'\n",
      " 'Vallee du Ntem' 'Fako' 'Koupe Manengouba' 'Lebialem' 'Manyu' 'Meme'\n",
      " 'Ndian' 'Bamboutos' 'Haut Nkam' 'Hauts Plateaux' 'Koung Khi' 'Menoua'\n",
      " 'Mifi' 'Nde' 'Noun' 'Northwest Tigray' 'Central Tigray' 'East Tigray'\n",
      " 'South Tigray' 'West Tigray' 'Awusi' 'Gabi' 'North Gondar' 'South Gondar'\n",
      " 'North Wollo' 'South Wollo' 'North Shewa' 'East Gojam' 'West Gojam'\n",
      " 'Wag Himra' 'Awi' 'Oromia' 'Argoba' 'West Wellega' 'East Wellega'\n",
      " 'Ilubabor' 'Jimma' 'West Shewa' 'East Shewa' 'Arsi' 'West Hararge'\n",
      " 'East Hararge' 'Borena' 'South West Shewa' 'Gujii' 'West Arsi' 'Kelem'\n",
      " 'Horo Guduru' 'Sitti' 'Fafan' 'Liben' 'Metekel' 'Asosa' 'Kemashi'\n",
      " 'Mao-Komo' 'Gurage' 'Hadiya' 'Kembata Tembaro' 'Sidama' 'Gedeo'\n",
      " 'Wolayita' 'South Omo' 'Sheka' 'Keffa' 'Gamo Gofa' 'Bench Maji' 'Yem'\n",
      " 'Dawro' 'Basketo' 'Konta' 'Silltie' 'Alaba' 'Segen' 'Agniwak' 'Nuer'\n",
      " 'Mezhenger' 'Itang' 'Harari' 'Dire Dawa' 'Boffa' 'Boke' 'Fria' 'Gaoual'\n",
      " 'Koundara' 'Dabola' 'Dinguiraye' 'Faranah' 'Kissidougou' 'Kankan'\n",
      " 'Kerouane' 'Kouroussa' 'Mandiana' 'Siguiri' 'Coyah' 'Dubreka'\n",
      " 'Forecariah' 'Kindia' 'Telimele' 'Koubia' 'Labe' 'Lelouma' 'Mali'\n",
      " 'Tougue' 'Dalaba' 'Mamou' 'Pita' 'Beyla' 'Gueckedou' 'Lola' 'Macenta'\n",
      " \"N'Zerekore\" 'Yomou' 'Analamanga' 'Bongolava' 'Itasy' 'Vakinankaratra'\n",
      " 'Diana' 'Sava' \"Amoron'i Mania\" 'Atsimo-Atsinanana' 'Haute Matsiatra'\n",
      " 'Ihorombe' 'Vatovavy-Fitovinany' 'Betsiboka' 'Boeny' 'Melaky' 'Sofia'\n",
      " 'Alaotra-Mangoro' 'Analanjirofo' 'Atsinanana' 'Androy' 'Anosy'\n",
      " 'Atsimo-Andrefana' 'Menabe' 'Dedza' 'Dowa' 'Kasungu' 'Lilongwe' 'Mchinji'\n",
      " 'Nkhotakota' 'Ntcheu' 'Ntchisi' 'Salima' 'Chitipa' 'Karonga' 'Likoma'\n",
      " 'Mzimba' 'Nkhata Bay' 'Rumphi' 'Balaka' 'Blantyre' 'Chikwawa'\n",
      " 'Chiradzulu' 'Machinga' 'Mangochi' 'Mulanje' 'Mwanza' 'Neno' 'Nsanje'\n",
      " 'Phalombe' 'Thyolo' 'Zomba' 'Bilma' 'Tchirozerine' 'Arlit' 'Aderbissinat'\n",
      " 'Iferouane' 'Ingall' 'Diffa' 'Bosso' 'Maine Soroa' 'Goudoumaria'\n",
      " \"N'Guigmi\" 'Loga' 'Boboye' 'Falmey' 'Dogondoutchi' 'Tibiri' 'Gaya'\n",
      " 'Dioudiou' 'Dosso' 'Dosso Commune' 'Madarounfa' 'Guidan Roumdji' 'Mayahi'\n",
      " 'Tessaoua' 'Gazaoua' 'Dakoro' 'Bermo' 'Aguie' 'Bouza' 'Madaoua' 'Abalak'\n",
      " 'Illela' 'Bagaroua' 'Keita' \"Birni N'Konni\" 'Malbaza' 'Tchintabaraden'\n",
      " 'Tassara' 'Tillia' 'Tahoua' 'Kollo' 'Filingue' 'Abala' 'Tagazar'\n",
      " 'Ouallam' 'Banibangou' 'Say' 'Torodi' 'Tera' 'Bankilare' 'Gotheye'\n",
      " 'Tillaberi' 'Ayerou' 'Kantche' 'Goure' 'Tasker' 'Magaria' 'Dungass'\n",
      " 'Mirriah' 'Takaya' 'Takeita' 'Tanout' 'Tarka' 'Zinder Commune' 'Bugesera'\n",
      " 'Gatsibo' 'Kayonza' 'Kirehe' 'Ngoma' 'Nyagatare' 'Rwamagana' 'Gasabo'\n",
      " 'Kicukiro' 'Nyarugenge' 'Burera' 'Gakenke' 'Gicumbi' 'Musanze' 'Rulindo'\n",
      " 'Gisagara' 'Huye' 'Kamonyi' 'Muhanga' 'Nyamagabe' 'Nyanza' 'Nyaruguru'\n",
      " 'Ruhango' 'Karongi' 'Ngororero' 'Nyabihu' 'Nyamasheke' 'Rubavu' 'Rusizi'\n",
      " 'Rutsiro' 'Kailahun' 'Kenema' 'Kono' 'Bombali' 'Kambia' 'Koinadugu'\n",
      " 'Port Loko' 'Tonkolili' 'Bo' 'Bonthe' 'Moyamba' 'Pujehun'\n",
      " 'Western Area Rural' 'Rufisque' 'Dakar' 'Mbour' 'Thies' 'Tivaouane'\n",
      " 'Bambey' 'Diourbel' 'Mbacke' 'Bignona' 'Oussouye' 'Ziguinchor' 'Dagana'\n",
      " 'Podor' 'Saint-Louis' 'Kanel' 'Matam' 'Ranerou Ferlo' 'Kebemer'\n",
      " 'Linguere' 'Louga' 'Kolda' 'Velingara' 'Medina Yoro Foulah' 'Bounkiling'\n",
      " 'Goudomp' 'Sedhiou' 'Bakel' 'Goudiry' 'Koumpentoum' 'Tambacounda'\n",
      " 'Kedougou' 'Salemata' 'Saraya' 'Guinguineo' 'Kaolack' 'Nioro du Rip'\n",
      " 'Birkelane' 'Kaffrine' 'Koungheul' 'Malem Hoddar' 'Fatick' 'Foundiougne'\n",
      " 'Gossas' 'Hargeysa' 'Gabiley' 'Burco' 'Oodweyne' 'Sheekh' 'Hobyo'\n",
      " 'Xarardheere' 'Ceel Buur' 'Ceel Dheer' 'Beledweyn' 'Bulo-Burte'\n",
      " 'Jalalaqsi' 'Jowhar' 'Aadan Yabaal' 'Balcad' 'Cadale' 'Marka' 'Afgooye'\n",
      " 'Baraawe' 'Kurtunwaarey' 'Qoryooley' 'Sablaale' 'Wanla Weyn' 'Baydhabo'\n",
      " 'Buur Hakaba' 'Diinsoor' 'Qansax Dheere' 'Xudur' 'Ceel Barde' 'Tiyeglow'\n",
      " 'Waajid' 'Rabdhuure' 'Garbahaarey' 'Baardheere' 'Beled-Xaawo' 'Doolow'\n",
      " 'Luuq' \"Bu'aale\" 'Jilib' 'Saakow' 'Kismaayo' 'Afmadow' 'Badhaadhe'\n",
      " 'Jamaame' 'Bassar' 'Assoli' 'Binah' 'Doufelgou' 'Kéran' 'Kozah' 'Dankpen'\n",
      " 'Haho' 'Kloto' 'Wawa' 'Ogou' 'Amou' 'Est-Mono' 'Agou' 'Danyi'\n",
      " 'Moyen-Mono' 'Akébou' 'Kpélé' 'Anié' 'Sotouboua' 'Tchamba' 'Tchaoudjo'\n",
      " 'Blitta' 'Tône' 'Oti' 'Kpendjal' 'Tandjouaré' 'Cinkassé' 'Zio' 'Lacs'\n",
      " 'Vo' 'Yoto' 'Avé' 'Bas-Mono' 'Kalangala' 'Kampala' 'Kayunga' 'Luwero'\n",
      " 'Lyantonde' 'Mityana' 'Mubende' 'Nakaseke' 'Nakasongola' 'Rakai'\n",
      " 'Sembabule' 'Wakiso' 'Kiboga' 'Masaka' 'Mpigi' 'Mukono' 'Amuria' 'Budaka'\n",
      " 'Bududa' 'Bukedea' 'Bukwo' 'Busia' 'Butaleja' 'Jinja' 'Kaberamaido'\n",
      " 'Kaliro' 'Katakwi' 'Manafwa' 'Mayuge' 'Mbale' 'Namutumba' 'Tororo'\n",
      " 'Bugiri' 'Iganga' 'Kamuli' 'Kapchorwa' 'Kumi' 'Pallisa' 'Sironko'\n",
      " 'Soroti' 'Abim' 'Adjumani' 'Amolatar' 'Arua' 'Dokolo' 'Gulu' 'Kaabong'\n",
      " 'Koboko' 'Kotido' 'Moyo' 'Oyam' 'Yumbe' 'Apac' 'Lira' 'Moroto'\n",
      " 'Nakapiripirit' 'Nebbi' 'Pader' 'Nyadri' 'Amuru' 'Kitgum' 'Buliisa'\n",
      " 'Hoima' 'Ibanda' 'Isingiro' 'Kabale' 'Kabarole' 'Kamwenge' 'Kanungu'\n",
      " 'Kasese' 'Kibaale' 'Kiruhura' 'Kisoro' 'Mbarara' 'Ntungamo' 'Rukungiri'\n",
      " 'Bundibugyo' 'Bushenyi' 'Kyenjojo' 'Masindi' 'Chibombo' 'Kabwe'\n",
      " 'Kapiri Mposhi' 'Mkushi' 'Serenje' 'Mumbwa' 'Chililabombwe' 'Chingola'\n",
      " 'Kalulushi' 'Kitwe' 'Luanshya' 'Lufwanyama' 'Masaiti' 'Mpongwe'\n",
      " 'Mufulira' 'Ndola' 'Chipata' 'Lundazi' 'Mambwe' 'Nyimba' 'Petauke'\n",
      " 'Chadiza' 'Katete' 'Chienge' 'Kawambwa' 'Mansa' 'Milenge' 'Nchelenge'\n",
      " 'Mwense' 'Samfya' 'Luangwa' 'Lusaka' 'Chongwe' 'Kafue' 'Chama' 'Isoka'\n",
      " 'Mafinga' 'Mpika' 'Nakonde' 'Chinsali' 'Chilubi' 'Kaputa' 'Kasama'\n",
      " 'Luwingu' 'Mungwi' 'Mpulungu' 'Mbala' 'Mporokoso' 'Chavuma' 'Ikelenge'\n",
      " 'Kasempa' 'Mufumbwe' 'Mwinilunga' 'Solwezi' 'Zambezi' 'Kabompo' 'Choma'\n",
      " 'Gwembe' 'Kazungula' 'Livingstone' 'Monze' 'Namwala' 'Itezhi-Tezhi'\n",
      " 'Siavonga' 'Sinazongwe' 'Kalomo' 'Mazabuka' 'Kalabo' 'Mongu' 'Senanga'\n",
      " 'Shangombo' 'Kaoma' 'Lukulu' 'Sesheke']\n"
     ]
    }
   ],
   "source": [
    "# Get unique values in the admin_2 column\n",
    "unique_admin_2_values = df['admin_2'].unique()\n",
    "\n",
    "# Print the unique values\n",
    "print(unique_admin_2_values)\n"
   ]
  },
  {
   "cell_type": "code",
   "execution_count": 18,
   "metadata": {},
   "outputs": [
    {
     "name": "stdout",
     "output_type": "stream",
     "text": [
      "Index(['country', 'country_code', 'admin_1', 'admin_2', 'product',\n",
      "       'season_name', 'planting_year', 'planting_month', 'harvest_year',\n",
      "       'harvest_month', 'crop_production_system', 'QC_flag', 'area',\n",
      "       'production', 'yield'],\n",
      "      dtype='object')\n"
     ]
    }
   ],
   "source": [
    "# Drop the admin_2 column\n",
    "df.drop(columns=['fnid'], inplace=True)\n",
    "\n",
    "# Verify the column has been deleted\n",
    "print(df.columns)\n"
   ]
  },
  {
   "cell_type": "code",
   "execution_count": 19,
   "metadata": {},
   "outputs": [
    {
     "name": "stdout",
     "output_type": "stream",
     "text": [
      "  country country_code province admin_2 product season_name  planting_year  \\\n",
      "0  Angola           AO    Bengo    none  Banana        Main           2007   \n",
      "1  Angola           AO    Bengo    none  Banana        Main           2008   \n",
      "2  Angola           AO    Bengo    none  Banana        Main           2014   \n",
      "3  Angola           AO    Bengo    none  Banana        Main           2015   \n",
      "4  Angola           AO    Bengo    none  Banana        Main           2016   \n",
      "\n",
      "   planting_month  harvest_year  harvest_month crop_production_system  \\\n",
      "0              10          2008              4               All (PS)   \n",
      "1              10          2009              4               All (PS)   \n",
      "2              10          2015              4               All (PS)   \n",
      "3              10          2016              4               All (PS)   \n",
      "4              10          2017              4               All (PS)   \n",
      "\n",
      "   QC_flag    area  production      yield  \n",
      "0        0  1364.0     19588.0  14.360704  \n",
      "1        0  1364.0     20461.0  15.000733  \n",
      "2        0  8706.0    222044.0  25.504709  \n",
      "3        0  8706.0    222044.0  25.504709  \n",
      "4        0  9549.7    233967.0  24.499932  \n"
     ]
    }
   ],
   "source": [
    "# Rename the admin_1 column to Province\n",
    "df.rename(columns={'admin_1': 'province'}, inplace=True)\n",
    "\n",
    "# Verify the change\n",
    "print(df.head())\n"
   ]
  },
  {
   "cell_type": "code",
   "execution_count": 20,
   "metadata": {},
   "outputs": [
    {
     "name": "stdout",
     "output_type": "stream",
     "text": [
      "fnid                      0.000000\n",
      "country                   0.000000\n",
      "country_code              0.000000\n",
      "admin_1                   0.000000\n",
      "admin_2                   0.000000\n",
      "product                   0.000000\n",
      "season_name               0.000000\n",
      "planting_year             0.000000\n",
      "planting_month            0.000000\n",
      "harvest_year              0.000000\n",
      "harvest_month             0.000000\n",
      "crop_production_system    0.000000\n",
      "QC_flag                   0.000000\n",
      "area                      6.420719\n",
      "production                2.267900\n",
      "yield                     8.803357\n",
      "dtype: float64\n"
     ]
    }
   ],
   "source": [
    "print(missing_proportion)"
   ]
  },
  {
   "cell_type": "code",
   "execution_count": 22,
   "metadata": {},
   "outputs": [
    {
     "name": "stdout",
     "output_type": "stream",
     "text": [
      "780\n"
     ]
    },
    {
     "name": "stderr",
     "output_type": "stream",
     "text": [
      "C:\\Users\\ELOHOME\\AppData\\Local\\Temp\\ipykernel_22932\\47219094.py:12: DeprecationWarning: DataFrameGroupBy.apply operated on the grouping columns. This behavior is deprecated, and in a future version of pandas the grouping columns will be excluded from the operation. Either pass `include_groups=False` to exclude the groupings or explicitly select the grouping columns after groupby to silence this warning.\n",
      "  df = df.groupby(['country', 'province'], group_keys=False).apply(fill_area_with_mode)\n"
     ]
    }
   ],
   "source": [
    "# Reset the index without inserting existing index levels as columns\n",
    "df = df.reset_index(drop=True)\n",
    "\n",
    "# Function to calculate and fill missing area values\n",
    "def fill_area_with_mode(group):\n",
    "    mode_area = group['area'].mode()  # Calculate the mode\n",
    "    if not mode_area.empty:  # Check if the mode exists\n",
    "        group['area'] = group['area'].fillna(mode_area[0])  # Fill missing values with mode\n",
    "    return group\n",
    "\n",
    "# Group by country and province and apply the function\n",
    "df = df.groupby(['country', 'province'], group_keys=False).apply(fill_area_with_mode)\n",
    "\n",
    "# Verify if there are still missing values in the 'area' column\n",
    "print(df['area'].isnull().sum())\n",
    "\n",
    "\n"
   ]
  },
  {
   "cell_type": "code",
   "execution_count": 23,
   "metadata": {},
   "outputs": [
    {
     "name": "stdout",
     "output_type": "stream",
     "text": [
      "0\n"
     ]
    },
    {
     "name": "stderr",
     "output_type": "stream",
     "text": [
      "C:\\Users\\ELOHOME\\AppData\\Local\\Temp\\ipykernel_22932\\3533851781.py:8: DeprecationWarning: DataFrameGroupBy.apply operated on the grouping columns. This behavior is deprecated, and in a future version of pandas the grouping columns will be excluded from the operation. Either pass `include_groups=False` to exclude the groupings or explicitly select the grouping columns after groupby to silence this warning.\n",
      "  df = df.groupby(['country', 'province'], group_keys=False).apply(fill_production_with_median)\n"
     ]
    }
   ],
   "source": [
    "# Function to calculate and fill missing production values\n",
    "def fill_production_with_median(group):\n",
    "    median_production = group['production'].median()  # Calculate the median\n",
    "    group['production'] = group['production'].fillna(median_production)  # Fill missing values with median\n",
    "    return group\n",
    "\n",
    "# Group by country and Province and apply the function\n",
    "df = df.groupby(['country', 'province'], group_keys=False).apply(fill_production_with_median)\n",
    "\n",
    "# Verify if there are still missing values in the 'production' column\n",
    "print(df['production'].isnull().sum())\n"
   ]
  },
  {
   "cell_type": "code",
   "execution_count": 24,
   "metadata": {},
   "outputs": [
    {
     "name": "stderr",
     "output_type": "stream",
     "text": [
      "c:\\Users\\ELOHOME\\AppData\\Local\\Programs\\Python\\Python313\\Lib\\site-packages\\numpy\\lib\\_nanfunctions_impl.py:1215: RuntimeWarning: Mean of empty slice\n",
      "  return np.nanmean(a, axis, out=out, keepdims=keepdims)\n",
      "c:\\Users\\ELOHOME\\AppData\\Local\\Programs\\Python\\Python313\\Lib\\site-packages\\numpy\\lib\\_nanfunctions_impl.py:1215: RuntimeWarning: Mean of empty slice\n",
      "  return np.nanmean(a, axis, out=out, keepdims=keepdims)\n",
      "c:\\Users\\ELOHOME\\AppData\\Local\\Programs\\Python\\Python313\\Lib\\site-packages\\numpy\\lib\\_nanfunctions_impl.py:1215: RuntimeWarning: Mean of empty slice\n",
      "  return np.nanmean(a, axis, out=out, keepdims=keepdims)\n",
      "c:\\Users\\ELOHOME\\AppData\\Local\\Programs\\Python\\Python313\\Lib\\site-packages\\numpy\\lib\\_nanfunctions_impl.py:1215: RuntimeWarning: Mean of empty slice\n",
      "  return np.nanmean(a, axis, out=out, keepdims=keepdims)\n",
      "c:\\Users\\ELOHOME\\AppData\\Local\\Programs\\Python\\Python313\\Lib\\site-packages\\numpy\\lib\\_nanfunctions_impl.py:1215: RuntimeWarning: Mean of empty slice\n",
      "  return np.nanmean(a, axis, out=out, keepdims=keepdims)\n",
      "c:\\Users\\ELOHOME\\AppData\\Local\\Programs\\Python\\Python313\\Lib\\site-packages\\numpy\\lib\\_nanfunctions_impl.py:1215: RuntimeWarning: Mean of empty slice\n",
      "  return np.nanmean(a, axis, out=out, keepdims=keepdims)\n",
      "c:\\Users\\ELOHOME\\AppData\\Local\\Programs\\Python\\Python313\\Lib\\site-packages\\numpy\\lib\\_nanfunctions_impl.py:1215: RuntimeWarning: Mean of empty slice\n",
      "  return np.nanmean(a, axis, out=out, keepdims=keepdims)\n",
      "c:\\Users\\ELOHOME\\AppData\\Local\\Programs\\Python\\Python313\\Lib\\site-packages\\numpy\\lib\\_nanfunctions_impl.py:1215: RuntimeWarning: Mean of empty slice\n",
      "  return np.nanmean(a, axis, out=out, keepdims=keepdims)\n"
     ]
    },
    {
     "name": "stdout",
     "output_type": "stream",
     "text": [
      "808\n"
     ]
    },
    {
     "name": "stderr",
     "output_type": "stream",
     "text": [
      "C:\\Users\\ELOHOME\\AppData\\Local\\Temp\\ipykernel_22932\\568280192.py:8: DeprecationWarning: DataFrameGroupBy.apply operated on the grouping columns. This behavior is deprecated, and in a future version of pandas the grouping columns will be excluded from the operation. Either pass `include_groups=False` to exclude the groupings or explicitly select the grouping columns after groupby to silence this warning.\n",
      "  df = df.groupby(['country', 'province'], group_keys=False).apply(fill_yield_with_median)\n"
     ]
    }
   ],
   "source": [
    "# Function to calculate and fill missing yield values\n",
    "def fill_yield_with_median(group):\n",
    "    median_yield = group['yield'].median()  # Calculate the median\n",
    "    group['yield'] = group['yield'].fillna(median_yield)  # Fill missing values with median\n",
    "    return group\n",
    "\n",
    "# Group by country, Province, and product and apply the function\n",
    "df = df.groupby(['country', 'province'], group_keys=False).apply(fill_yield_with_median)\n",
    "\n",
    "# Verify if there are still missing values in the 'yield' column\n",
    "print(df['yield'].isnull().sum())\n"
   ]
  },
  {
   "cell_type": "code",
   "execution_count": 25,
   "metadata": {},
   "outputs": [
    {
     "name": "stdout",
     "output_type": "stream",
     "text": [
      "0\n"
     ]
    }
   ],
   "source": [
    "# Drop rows where the 'yield' column has missing values\n",
    "df = df[df['yield'].notnull()]\n",
    "\n",
    "# Verify if there are any remaining missing values\n",
    "print(df['yield'].isnull().sum())\n"
   ]
  },
  {
   "cell_type": "code",
   "execution_count": 26,
   "metadata": {},
   "outputs": [
    {
     "data": {
      "text/plain": [
       "country                   0\n",
       "country_code              0\n",
       "province                  0\n",
       "admin_2                   0\n",
       "product                   0\n",
       "season_name               0\n",
       "planting_year             0\n",
       "planting_month            0\n",
       "harvest_year              0\n",
       "harvest_month             0\n",
       "crop_production_system    0\n",
       "QC_flag                   0\n",
       "area                      0\n",
       "production                0\n",
       "yield                     0\n",
       "dtype: int64"
      ]
     },
     "execution_count": 26,
     "metadata": {},
     "output_type": "execute_result"
    }
   ],
   "source": [
    "df.isnull().sum()"
   ]
  },
  {
   "cell_type": "code",
   "execution_count": 27,
   "metadata": {},
   "outputs": [
    {
     "data": {
      "text/html": [
       "<div>\n",
       "<style scoped>\n",
       "    .dataframe tbody tr th:only-of-type {\n",
       "        vertical-align: middle;\n",
       "    }\n",
       "\n",
       "    .dataframe tbody tr th {\n",
       "        vertical-align: top;\n",
       "    }\n",
       "\n",
       "    .dataframe thead th {\n",
       "        text-align: right;\n",
       "    }\n",
       "</style>\n",
       "<table border=\"1\" class=\"dataframe\">\n",
       "  <thead>\n",
       "    <tr style=\"text-align: right;\">\n",
       "      <th></th>\n",
       "      <th>planting_year</th>\n",
       "      <th>planting_month</th>\n",
       "      <th>harvest_year</th>\n",
       "      <th>harvest_month</th>\n",
       "      <th>QC_flag</th>\n",
       "      <th>area</th>\n",
       "      <th>production</th>\n",
       "      <th>yield</th>\n",
       "    </tr>\n",
       "  </thead>\n",
       "  <tbody>\n",
       "    <tr>\n",
       "      <th>count</th>\n",
       "      <td>192675.000000</td>\n",
       "      <td>192675.000000</td>\n",
       "      <td>192675.000000</td>\n",
       "      <td>192675.000000</td>\n",
       "      <td>192675.000000</td>\n",
       "      <td>1.926750e+05</td>\n",
       "      <td>1.926750e+05</td>\n",
       "      <td>192675.000000</td>\n",
       "    </tr>\n",
       "    <tr>\n",
       "      <th>mean</th>\n",
       "      <td>2005.410806</td>\n",
       "      <td>6.224907</td>\n",
       "      <td>2005.843327</td>\n",
       "      <td>8.304201</td>\n",
       "      <td>0.000275</td>\n",
       "      <td>3.129686e+04</td>\n",
       "      <td>3.974607e+04</td>\n",
       "      <td>3.370426</td>\n",
       "    </tr>\n",
       "    <tr>\n",
       "      <th>std</th>\n",
       "      <td>10.125293</td>\n",
       "      <td>3.019347</td>\n",
       "      <td>10.153139</td>\n",
       "      <td>3.624395</td>\n",
       "      <td>0.016583</td>\n",
       "      <td>4.067437e+06</td>\n",
       "      <td>2.103087e+05</td>\n",
       "      <td>11.887667</td>\n",
       "    </tr>\n",
       "    <tr>\n",
       "      <th>min</th>\n",
       "      <td>1960.000000</td>\n",
       "      <td>1.000000</td>\n",
       "      <td>1960.000000</td>\n",
       "      <td>1.000000</td>\n",
       "      <td>0.000000</td>\n",
       "      <td>0.000000e+00</td>\n",
       "      <td>0.000000e+00</td>\n",
       "      <td>0.000047</td>\n",
       "    </tr>\n",
       "    <tr>\n",
       "      <th>25%</th>\n",
       "      <td>2000.000000</td>\n",
       "      <td>3.000000</td>\n",
       "      <td>2000.000000</td>\n",
       "      <td>5.000000</td>\n",
       "      <td>0.000000</td>\n",
       "      <td>1.430000e+02</td>\n",
       "      <td>2.740000e+02</td>\n",
       "      <td>0.574242</td>\n",
       "    </tr>\n",
       "    <tr>\n",
       "      <th>50%</th>\n",
       "      <td>2007.000000</td>\n",
       "      <td>6.000000</td>\n",
       "      <td>2007.000000</td>\n",
       "      <td>10.000000</td>\n",
       "      <td>0.000000</td>\n",
       "      <td>1.533000e+03</td>\n",
       "      <td>2.153208e+03</td>\n",
       "      <td>1.019000</td>\n",
       "    </tr>\n",
       "    <tr>\n",
       "      <th>75%</th>\n",
       "      <td>2013.000000</td>\n",
       "      <td>9.000000</td>\n",
       "      <td>2013.000000</td>\n",
       "      <td>12.000000</td>\n",
       "      <td>0.000000</td>\n",
       "      <td>1.075994e+04</td>\n",
       "      <td>1.463838e+04</td>\n",
       "      <td>2.380999</td>\n",
       "    </tr>\n",
       "    <tr>\n",
       "      <th>max</th>\n",
       "      <td>2023.000000</td>\n",
       "      <td>11.000000</td>\n",
       "      <td>2023.000000</td>\n",
       "      <td>12.000000</td>\n",
       "      <td>1.000000</td>\n",
       "      <td>1.751414e+09</td>\n",
       "      <td>8.899134e+06</td>\n",
       "      <td>1229.428571</td>\n",
       "    </tr>\n",
       "  </tbody>\n",
       "</table>\n",
       "</div>"
      ],
      "text/plain": [
       "       planting_year  planting_month   harvest_year  harvest_month  \\\n",
       "count  192675.000000   192675.000000  192675.000000  192675.000000   \n",
       "mean     2005.410806        6.224907    2005.843327       8.304201   \n",
       "std        10.125293        3.019347      10.153139       3.624395   \n",
       "min      1960.000000        1.000000    1960.000000       1.000000   \n",
       "25%      2000.000000        3.000000    2000.000000       5.000000   \n",
       "50%      2007.000000        6.000000    2007.000000      10.000000   \n",
       "75%      2013.000000        9.000000    2013.000000      12.000000   \n",
       "max      2023.000000       11.000000    2023.000000      12.000000   \n",
       "\n",
       "             QC_flag          area    production          yield  \n",
       "count  192675.000000  1.926750e+05  1.926750e+05  192675.000000  \n",
       "mean        0.000275  3.129686e+04  3.974607e+04       3.370426  \n",
       "std         0.016583  4.067437e+06  2.103087e+05      11.887667  \n",
       "min         0.000000  0.000000e+00  0.000000e+00       0.000047  \n",
       "25%         0.000000  1.430000e+02  2.740000e+02       0.574242  \n",
       "50%         0.000000  1.533000e+03  2.153208e+03       1.019000  \n",
       "75%         0.000000  1.075994e+04  1.463838e+04       2.380999  \n",
       "max         1.000000  1.751414e+09  8.899134e+06    1229.428571  "
      ]
     },
     "execution_count": 27,
     "metadata": {},
     "output_type": "execute_result"
    }
   ],
   "source": [
    "df.describe()"
   ]
  },
  {
   "cell_type": "code",
   "execution_count": 28,
   "metadata": {},
   "outputs": [
    {
     "name": "stdout",
     "output_type": "stream",
     "text": [
      "planting_year    int64\n",
      "harvest_year     int64\n",
      "harvest_month    int64\n",
      "dtype: object\n"
     ]
    }
   ],
   "source": [
    "# Convert planting_year, harvest_year, and harvest_month to integers\n",
    "df['planting_year'] = df['planting_year'].astype(int)\n",
    "df['harvest_year'] = df['harvest_year'].astype(int)\n",
    "df['harvest_month'] = df['harvest_month'].astype(int)\n",
    "\n",
    "# Verify changes\n",
    "print(df[['planting_year', 'harvest_year', 'harvest_month']].dtypes)\n"
   ]
  },
  {
   "cell_type": "code",
   "execution_count": 29,
   "metadata": {},
   "outputs": [
    {
     "name": "stdout",
     "output_type": "stream",
     "text": [
      "  harvest_date\n",
      "0   2008-04-01\n",
      "1   2009-04-01\n",
      "2   2015-04-01\n",
      "3   2016-04-01\n",
      "4   2017-04-01\n"
     ]
    }
   ],
   "source": [
    "# Combine harvest_year and harvest_month into a single datetime column\n",
    "df['harvest_date'] = pd.to_datetime(df['harvest_year'].astype(str) + '-' + df['harvest_month'].astype(str) + '-01')\n",
    "\n",
    "# Verify the new harvest_date column\n",
    "print(df[['harvest_date']].head())\n"
   ]
  },
  {
   "cell_type": "code",
   "execution_count": 30,
   "metadata": {},
   "outputs": [
    {
     "name": "stdout",
     "output_type": "stream",
     "text": [
      "  planting_date harvest_date  time_to_harvest\n",
      "0    2007-01-01   2008-04-01              456\n",
      "1    2008-01-01   2009-04-01              456\n",
      "2    2014-01-01   2015-04-01              455\n",
      "3    2015-01-01   2016-04-01              456\n",
      "4    2016-01-01   2017-04-01              456\n"
     ]
    }
   ],
   "source": [
    "# Combine planting_year and harvest_month to create planting_date\n",
    "df['planting_date'] = pd.to_datetime(df['planting_year'].astype(str) + '-01-01')\n",
    "\n",
    "# Calculate the difference in days between harvest and planting\n",
    "df['time_to_harvest'] = (df['harvest_date'] - df['planting_date']).dt.days\n",
    "\n",
    "# Verify the new column\n",
    "print(df[['planting_date', 'harvest_date', 'time_to_harvest']].head())\n"
   ]
  },
  {
   "cell_type": "code",
   "execution_count": 31,
   "metadata": {},
   "outputs": [
    {
     "data": {
      "image/png": "[encoded data removed]",
      "text/plain": [
       "<Figure size 800x500 with 1 Axes>"
      ]
     },
     "metadata": {},
     "output_type": "display_data"
    },
    {
     "data": {
      "image/png": "[encoded data removed]",
      "text/plain": [
       "<Figure size 800x500 with 1 Axes>"
      ]
     },
     "metadata": {},
     "output_type": "display_data"
    },
    {
     "data": {
      "image/png": "[encoded data removed]",
      "text/plain": [
       "<Figure size 800x500 with 1 Axes>"
      ]
     },
     "metadata": {},
     "output_type": "display_data"
    }
   ],
   "source": [
    "import matplotlib.pyplot as plt\n",
    "\n",
    "# Plot histograms for numerical columns\n",
    "numerical_columns = ['area', 'production', 'yield']\n",
    "for col in numerical_columns:\n",
    "    plt.figure(figsize=(8, 5))\n",
    "    plt.hist(df[col], bins=50, color='blue', alpha=0.7)\n",
    "    plt.title(f'Distribution of {col}')\n",
    "    plt.xlabel(col)\n",
    "    plt.ylabel('Frequency')\n",
    "    plt.show()\n"
   ]
  },
  {
   "cell_type": "code",
   "execution_count": 32,
   "metadata": {},
   "outputs": [
    {
     "data": {
      "image/png": "[encoded data removed]",
      "text/plain": [
       "<Figure size 800x500 with 1 Axes>"
      ]
     },
     "metadata": {},
     "output_type": "display_data"
    },
    {
     "data": {
      "image/png": "[encoded data removed]",
      "text/plain": [
       "<Figure size 800x500 with 1 Axes>"
      ]
     },
     "metadata": {},
     "output_type": "display_data"
    },
    {
     "data": {
      "image/png": "[encoded data removed]",
      "text/plain": [
       "<Figure size 800x500 with 1 Axes>"
      ]
     },
     "metadata": {},
     "output_type": "display_data"
    }
   ],
   "source": [
    "# Plot boxplots for numerical columns\n",
    "for col in numerical_columns:\n",
    "    plt.figure(figsize=(8, 5))\n",
    "    plt.boxplot(df[col], vert=False, patch_artist=True, boxprops=dict(facecolor='lightblue'))\n",
    "    plt.title(f'Boxplot of {col}')\n",
    "    plt.xlabel(col)\n",
    "    plt.show()\n"
   ]
  },
  {
   "cell_type": "code",
   "execution_count": 33,
   "metadata": {},
   "outputs": [
    {
     "name": "stdout",
     "output_type": "stream",
     "text": [
      "Number of outliers in area: 29449\n",
      "Number of outliers in production: 28709\n",
      "Number of outliers in yield: 31181\n"
     ]
    }
   ],
   "source": [
    "for col in numerical_columns:\n",
    "    Q1 = df[col].quantile(0.25)  # First Quartile\n",
    "    Q3 = df[col].quantile(0.75)  # Third Quartile\n",
    "    IQR = Q3 - Q1  # Interquartile Range\n",
    "\n",
    "    lower_bound = Q1 - 1.5 * IQR\n",
    "    upper_bound = Q3 + 1.5 * IQR\n",
    "\n",
    "    outliers = df[(df[col] < lower_bound) | (df[col] > upper_bound)]\n",
    "    print(f'Number of outliers in {col}: {len(outliers)}')\n"
   ]
  },
  {
   "cell_type": "code",
   "execution_count": 34,
   "metadata": {},
   "outputs": [
    {
     "data": {
      "text/html": [
       "<div>\n",
       "<style scoped>\n",
       "    .dataframe tbody tr th:only-of-type {\n",
       "        vertical-align: middle;\n",
       "    }\n",
       "\n",
       "    .dataframe tbody tr th {\n",
       "        vertical-align: top;\n",
       "    }\n",
       "\n",
       "    .dataframe thead th {\n",
       "        text-align: right;\n",
       "    }\n",
       "</style>\n",
       "<table border=\"1\" class=\"dataframe\">\n",
       "  <thead>\n",
       "    <tr style=\"text-align: right;\">\n",
       "      <th></th>\n",
       "      <th>country</th>\n",
       "      <th>country_code</th>\n",
       "      <th>province</th>\n",
       "      <th>admin_2</th>\n",
       "      <th>product</th>\n",
       "      <th>season_name</th>\n",
       "      <th>planting_year</th>\n",
       "      <th>planting_month</th>\n",
       "      <th>harvest_year</th>\n",
       "      <th>harvest_month</th>\n",
       "      <th>crop_production_system</th>\n",
       "      <th>QC_flag</th>\n",
       "      <th>area</th>\n",
       "      <th>production</th>\n",
       "      <th>yield</th>\n",
       "      <th>harvest_date</th>\n",
       "      <th>planting_date</th>\n",
       "      <th>time_to_harvest</th>\n",
       "    </tr>\n",
       "  </thead>\n",
       "  <tbody>\n",
       "    <tr>\n",
       "      <th>0</th>\n",
       "      <td>Angola</td>\n",
       "      <td>AO</td>\n",
       "      <td>Bengo</td>\n",
       "      <td>none</td>\n",
       "      <td>Banana</td>\n",
       "      <td>Main</td>\n",
       "      <td>2007</td>\n",
       "      <td>10</td>\n",
       "      <td>2008</td>\n",
       "      <td>4</td>\n",
       "      <td>All (PS)</td>\n",
       "      <td>0</td>\n",
       "      <td>1364.0</td>\n",
       "      <td>19588.0</td>\n",
       "      <td>14.360704</td>\n",
       "      <td>2008-04-01</td>\n",
       "      <td>2007-01-01</td>\n",
       "      <td>456</td>\n",
       "    </tr>\n",
       "    <tr>\n",
       "      <th>1</th>\n",
       "      <td>Angola</td>\n",
       "      <td>AO</td>\n",
       "      <td>Bengo</td>\n",
       "      <td>none</td>\n",
       "      <td>Banana</td>\n",
       "      <td>Main</td>\n",
       "      <td>2008</td>\n",
       "      <td>10</td>\n",
       "      <td>2009</td>\n",
       "      <td>4</td>\n",
       "      <td>All (PS)</td>\n",
       "      <td>0</td>\n",
       "      <td>1364.0</td>\n",
       "      <td>20461.0</td>\n",
       "      <td>15.000733</td>\n",
       "      <td>2009-04-01</td>\n",
       "      <td>2008-01-01</td>\n",
       "      <td>456</td>\n",
       "    </tr>\n",
       "    <tr>\n",
       "      <th>2</th>\n",
       "      <td>Angola</td>\n",
       "      <td>AO</td>\n",
       "      <td>Bengo</td>\n",
       "      <td>none</td>\n",
       "      <td>Banana</td>\n",
       "      <td>Main</td>\n",
       "      <td>2014</td>\n",
       "      <td>10</td>\n",
       "      <td>2015</td>\n",
       "      <td>4</td>\n",
       "      <td>All (PS)</td>\n",
       "      <td>0</td>\n",
       "      <td>8706.0</td>\n",
       "      <td>222044.0</td>\n",
       "      <td>25.504709</td>\n",
       "      <td>2015-04-01</td>\n",
       "      <td>2014-01-01</td>\n",
       "      <td>455</td>\n",
       "    </tr>\n",
       "    <tr>\n",
       "      <th>3</th>\n",
       "      <td>Angola</td>\n",
       "      <td>AO</td>\n",
       "      <td>Bengo</td>\n",
       "      <td>none</td>\n",
       "      <td>Banana</td>\n",
       "      <td>Main</td>\n",
       "      <td>2015</td>\n",
       "      <td>10</td>\n",
       "      <td>2016</td>\n",
       "      <td>4</td>\n",
       "      <td>All (PS)</td>\n",
       "      <td>0</td>\n",
       "      <td>8706.0</td>\n",
       "      <td>222044.0</td>\n",
       "      <td>25.504709</td>\n",
       "      <td>2016-04-01</td>\n",
       "      <td>2015-01-01</td>\n",
       "      <td>456</td>\n",
       "    </tr>\n",
       "    <tr>\n",
       "      <th>4</th>\n",
       "      <td>Angola</td>\n",
       "      <td>AO</td>\n",
       "      <td>Bengo</td>\n",
       "      <td>none</td>\n",
       "      <td>Banana</td>\n",
       "      <td>Main</td>\n",
       "      <td>2016</td>\n",
       "      <td>10</td>\n",
       "      <td>2017</td>\n",
       "      <td>4</td>\n",
       "      <td>All (PS)</td>\n",
       "      <td>0</td>\n",
       "      <td>9549.7</td>\n",
       "      <td>233967.0</td>\n",
       "      <td>24.499932</td>\n",
       "      <td>2017-04-01</td>\n",
       "      <td>2016-01-01</td>\n",
       "      <td>456</td>\n",
       "    </tr>\n",
       "  </tbody>\n",
       "</table>\n",
       "</div>"
      ],
      "text/plain": [
       "  country country_code province admin_2 product season_name  planting_year  \\\n",
       "0  Angola           AO    Bengo    none  Banana        Main           2007   \n",
       "1  Angola           AO    Bengo    none  Banana        Main           2008   \n",
       "2  Angola           AO    Bengo    none  Banana        Main           2014   \n",
       "3  Angola           AO    Bengo    none  Banana        Main           2015   \n",
       "4  Angola           AO    Bengo    none  Banana        Main           2016   \n",
       "\n",
       "   planting_month  harvest_year  harvest_month crop_production_system  \\\n",
       "0              10          2008              4               All (PS)   \n",
       "1              10          2009              4               All (PS)   \n",
       "2              10          2015              4               All (PS)   \n",
       "3              10          2016              4               All (PS)   \n",
       "4              10          2017              4               All (PS)   \n",
       "\n",
       "   QC_flag    area  production      yield harvest_date planting_date  \\\n",
       "0        0  1364.0     19588.0  14.360704   2008-04-01    2007-01-01   \n",
       "1        0  1364.0     20461.0  15.000733   2009-04-01    2008-01-01   \n",
       "2        0  8706.0    222044.0  25.504709   2015-04-01    2014-01-01   \n",
       "3        0  8706.0    222044.0  25.504709   2016-04-01    2015-01-01   \n",
       "4        0  9549.7    233967.0  24.499932   2017-04-01    2016-01-01   \n",
       "\n",
       "   time_to_harvest  \n",
       "0              456  \n",
       "1              456  \n",
       "2              455  \n",
       "3              456  \n",
       "4              456  "
      ]
     },
     "execution_count": 34,
     "metadata": {},
     "output_type": "execute_result"
    }
   ],
   "source": [
    "df.head()\n"
   ]
  },
  {
   "cell_type": "code",
   "execution_count": 36,
   "metadata": {},
   "outputs": [],
   "source": [
    "# Select relevant columns\n",
    "features = ['country', 'province', 'product', 'season_name', 'time_to_harvest', 'area', 'production']\n",
    "target = 'yield'\n",
    "\n",
    "X = df[features]\n",
    "y = df[target]"
   ]
  },
  {
   "cell_type": "code",
   "execution_count": 37,
   "metadata": {},
   "outputs": [],
   "source": [
    "# Split the data into training and testing sets\n",
    "X_train, X_test, y_train, y_test = train_test_split(X, y, test_size=0.2, random_state=42)"
   ]
  },
  {
   "cell_type": "code",
   "execution_count": 41,
   "metadata": {},
   "outputs": [],
   "source": [
    "# Preprocessing: OneHotEncoding for categorical variables, scaling for numerical variables\n",
    "categorical_features = ['country', 'province', 'product', 'season_name']\n",
    "numerical_features = ['time_to_harvest', 'area', 'production']\n",
    "\n",
    "preprocessor = ColumnTransformer(\n",
    "    transformers=[\n",
    "        ('cat', OneHotEncoder(handle_unknown='ignore'), categorical_features),\n",
    "        ('num', StandardScaler(), numerical_features)\n",
    "    ]\n",
    ")"
   ]
  },
  {
   "cell_type": "code",
   "execution_count": 42,
   "metadata": {},
   "outputs": [],
   "source": [
    "# Linear Regression Model\n",
    "lr_pipeline = Pipeline(steps=[\n",
    "    ('preprocessor', preprocessor),\n",
    "    ('regressor', LinearRegression())\n",
    "])\n"
   ]
  },
  {
   "cell_type": "code",
   "execution_count": 43,
   "metadata": {},
   "outputs": [
    {
     "name": "stdout",
     "output_type": "stream",
     "text": [
      "Linear Regression - Train MSE: 103.86898750648034, Test MSE: 152.66249418731346\n"
     ]
    }
   ],
   "source": [
    "# Train the Linear Regression model\n",
    "lr_pipeline.fit(X_train, y_train)\n",
    "\n",
    "# Evaluate Linear Regression\n",
    "y_train_pred = lr_pipeline.predict(X_train)\n",
    "y_test_pred = lr_pipeline.predict(X_test)\n",
    "\n",
    "train_mse_lr = mean_squared_error(y_train, y_train_pred)\n",
    "test_mse_lr = mean_squared_error(y_test, y_test_pred)\n",
    "\n",
    "print(f\"Linear Regression - Train MSE: {train_mse_lr}, Test MSE: {test_mse_lr}\")"
   ]
  },
  {
   "cell_type": "code",
   "execution_count": 44,
   "metadata": {},
   "outputs": [
    {
     "data": {
      "image/png": "[encoded data removed]",
      "text/plain": [
       "<Figure size 1000x500 with 1 Axes>"
      ]
     },
     "metadata": {},
     "output_type": "display_data"
    }
   ],
   "source": [
    "# Plot loss curve for Linear Regression\n",
    "plt.figure(figsize=(10, 5))\n",
    "plt.plot(y_train, y_train_pred, 'o', label='Train Predictions')\n",
    "plt.plot(y_test, y_test_pred, 'o', label='Test Predictions')\n",
    "plt.title('Linear Regression Predictions')\n",
    "plt.xlabel('True Yield')\n",
    "plt.ylabel('Predicted Yield')\n",
    "plt.legend()\n",
    "plt.show()"
   ]
  },
  {
   "cell_type": "code",
   "execution_count": 45,
   "metadata": {},
   "outputs": [
    {
     "name": "stdout",
     "output_type": "stream",
     "text": [
      "Decision Tree - Test MSE: 106.62227158711481\n"
     ]
    }
   ],
   "source": [
    "# Decision Tree Model\n",
    "dt_pipeline = Pipeline(steps=[\n",
    "    ('preprocessor', preprocessor),\n",
    "    ('regressor', DecisionTreeRegressor(random_state=42))\n",
    "])\n",
    "\n",
    "dt_pipeline.fit(X_train, y_train)\n",
    "y_test_pred_dt = dt_pipeline.predict(X_test)\n",
    "test_mse_dt = mean_squared_error(y_test, y_test_pred_dt)\n",
    "print(f\"Decision Tree - Test MSE: {test_mse_dt}\")"
   ]
  },
  {
   "cell_type": "code",
   "execution_count": 46,
   "metadata": {},
   "outputs": [
    {
     "name": "stdout",
     "output_type": "stream",
     "text": [
      "Random Forest - Test MSE: 102.11318819530501\n"
     ]
    }
   ],
   "source": [
    "# Random Forest Model\n",
    "rf_pipeline = Pipeline(steps=[\n",
    "    ('preprocessor', preprocessor),\n",
    "    ('regressor', RandomForestRegressor(n_estimators=50, max_depth=10, n_jobs=-1, random_state=42))\n",
    "])\n",
    "\n",
    "rf_pipeline.fit(X_train, y_train)\n",
    "y_test_pred_rf = rf_pipeline.predict(X_test)\n",
    "test_mse_rf = mean_squared_error(y_test, y_test_pred_rf)\n",
    "print(f\"Random Forest - Test MSE: {test_mse_rf}\")"
   ]
  },
  {
   "cell_type": "code",
   "execution_count": 47,
   "metadata": {},
   "outputs": [
    {
     "name": "stdout",
     "output_type": "stream",
     "text": [
      "Best model: Random Forest\n"
     ]
    }
   ],
   "source": [
    "# Compare models and save the best one\n",
    "if test_mse_lr < test_mse_dt and test_mse_lr < test_mse_rf:\n",
    "    best_model = lr_pipeline\n",
    "    print(\"Best model: Linear Regression\")\n",
    "elif test_mse_dt < test_mse_rf:\n",
    "    best_model = dt_pipeline\n",
    "    print(\"Best model: Decision Tree\")\n",
    "else:\n",
    "    best_model = rf_pipeline\n",
    "    print(\"Best model: Random Forest\")"
   ]
  },
  {
   "cell_type": "code",
   "execution_count": 48,
   "metadata": {},
   "outputs": [
    {
     "data": {
      "text/plain": [
       "['best_model.pkl']"
      ]
     },
     "execution_count": 48,
     "metadata": {},
     "output_type": "execute_result"
    }
   ],
   "source": [
    "# Save the best model\n",
    "joblib.dump(best_model, 'best_model.pkl')"
   ]
  },
  {
   "cell_type": "code",
   "execution_count": 49,
   "metadata": {},
   "outputs": [],
   "source": [
    "# Script for making predictions\n",
    "def predict_yield(input_data):\n",
    "    \"\"\"\n",
    "    Predict crop yield using the best model.\n",
    "    :param input_data: DataFrame containing input features\n",
    "    :return: Predicted yield\n",
    "    \"\"\"\n",
    "    model = joblib.load('best_model.pkl')\n",
    "    return model.predict(input_data)"
   ]
  },
  {
   "cell_type": "code",
   "execution_count": 51,
   "metadata": {},
   "outputs": [
    {
     "name": "stdout",
     "output_type": "stream",
     "text": [
      "Predicted Yield: 2.0322764760053325\n"
     ]
    }
   ],
   "source": [
    "# Example usage of the prediction script\n",
    "example_input = pd.DataFrame({\n",
    "    'country': ['Country1'],\n",
    "    'province': ['Province1'],\n",
    "    'product': ['Product1'],\n",
    "    'season_name': ['Season1'],\n",
    "    'time_to_harvest': [30],\n",
    "    'area': [100],\n",
    "    'production': [500]\n",
    "})\n",
    "\n",
    "predicted_yield = predict_yield(example_input)\n",
    "print(f\"Predicted Yield: {predicted_yield[0]}\")"
   ]
  }
 ],
 "metadata": {
  "kernelspec": {
   "display_name": "Python 3",
   "language": "python",
   "name": "python3"
  },
  "language_info": {
   "codemirror_mode": {
    "name": "ipython",
    "version": 3
   },
   "file_extension": ".py",
   "mimetype": "text/x-python",
   "name": "python",
   "nbconvert_exporter": "python",
   "pygments_lexer": "ipython3",
   "version": "3.13.1"
  }
 },
 "nbformat": 4,
 "nbformat_minor": 2
}
